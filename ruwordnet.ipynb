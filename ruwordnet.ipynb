{
 "cells": [
  {
   "cell_type": "code",
   "execution_count": 5,
   "metadata": {},
   "outputs": [
    {
     "name": "stdout",
     "output_type": "stream",
     "text": [
      "Collecting ruwordnet\n",
      "  Downloading ruwordnet-0.0.6.tar.gz (16 kB)\n",
      "  Preparing metadata (setup.py) ... \u001b[?25ldone\n",
      "\u001b[?25hCollecting sqlalchemy<2.0 (from ruwordnet)\n",
      "  Downloading SQLAlchemy-1.4.49-cp310-cp310-manylinux_2_5_x86_64.manylinux1_x86_64.manylinux_2_17_x86_64.manylinux2014_x86_64.whl (1.6 MB)\n",
      "\u001b[2K     \u001b[90m━━━━━━━━━━━━━━━━━━━━━━━━━━━━━━━━━━━━━━━━\u001b[0m \u001b[32m1.6/1.6 MB\u001b[0m \u001b[31m33.2 MB/s\u001b[0m eta \u001b[36m0:00:00\u001b[0m:00:01\u001b[0m\n",
      "\u001b[?25hCollecting greenlet!=0.4.17 (from sqlalchemy<2.0->ruwordnet)\n",
      "  Downloading greenlet-2.0.2-cp310-cp310-manylinux_2_17_x86_64.manylinux2014_x86_64.whl (613 kB)\n",
      "\u001b[2K     \u001b[90m━━━━━━━━━━━━━━━━━━━━━━━━━━━━━━━━━━━━━━\u001b[0m \u001b[32m613.7/613.7 kB\u001b[0m \u001b[31m18.8 MB/s\u001b[0m eta \u001b[36m0:00:00\u001b[0m\n",
      "\u001b[?25hBuilding wheels for collected packages: ruwordnet\n",
      "  Building wheel for ruwordnet (setup.py) ... \u001b[?25ldone\n",
      "\u001b[?25h  Created wheel for ruwordnet: filename=ruwordnet-0.0.6-py3-none-any.whl size=13169 sha256=67d7440b6b22cfac0f8e26c9cd42a564425e819f678464d207d710ceff2ab347\n",
      "  Stored in directory: /home/codespace/.cache/pip/wheels/6f/75/be/a338d987d811bbfe38a40a76166cc84dfdc88e02eadc3ff9c0\n",
      "Successfully built ruwordnet\n",
      "Installing collected packages: greenlet, sqlalchemy, ruwordnet\n",
      "\u001b[33m  WARNING: The script ruwordnet is installed in '/opt/python/3.10.8/bin' which is not on PATH.\n",
      "  Consider adding this directory to PATH or, if you prefer to suppress this warning, use --no-warn-script-location.\u001b[0m\u001b[33m\n",
      "\u001b[0mSuccessfully installed greenlet-2.0.2 ruwordnet-0.0.6 sqlalchemy-1.4.49\n",
      "\n",
      "\u001b[1m[\u001b[0m\u001b[34;49mnotice\u001b[0m\u001b[1;39;49m]\u001b[0m\u001b[39;49m A new release of pip is available: \u001b[0m\u001b[31;49m23.1.2\u001b[0m\u001b[39;49m -> \u001b[0m\u001b[32;49m23.2.1\u001b[0m\n",
      "\u001b[1m[\u001b[0m\u001b[34;49mnotice\u001b[0m\u001b[1;39;49m]\u001b[0m\u001b[39;49m To update, run: \u001b[0m\u001b[32;49mpython -m pip install --upgrade pip\u001b[0m\n",
      "downloading a ruwordnet model from https://github.com/avidale/python-ruwordnet/releases/download/0.0.4/ruwordnet-2021.db\n"
     ]
    }
   ],
   "source": [
    "# https://github.com/avidale/python-ruwordnet\n",
    "!pip install ruwordnet\n",
    "!ruwordnet download"
   ]
  },
  {
   "cell_type": "code",
   "execution_count": 6,
   "metadata": {},
   "outputs": [],
   "source": []
  },
  {
   "cell_type": "code",
   "execution_count": 22,
   "metadata": {},
   "outputs": [
    {
     "name": "stdout",
     "output_type": "stream",
     "text": [
      "_sa_class_manager <ClassManager of <class 'ruwordnet.models.Synset'> at 7f25ad8ba480>\n",
      "_sa_instance_state <sqlalchemy.orm.state.InstanceState object at 0x7f25ad82e7d0>\n",
      "_sa_registry <sqlalchemy.orm.decl_api.registry object at 0x7f25ada14a90>\n",
      "antonyms []\n",
      "antonyms_reverse []\n",
      "causes []\n",
      "classes []\n",
      "conclusions []\n",
      "definition изваяние, скульптурное произведение, изображающее человека или животное, обычно во весь рост\n",
      "domain_items []\n",
      "domains [Synset(id=\"540-N\", title=\"ИСКУССТВО\"), Synset(id=\"1419-N\", title=\"ИЗОБРАЗИТЕЛЬНОЕ ИСКУССТВО\"), Synset(id=\"7313-N\", title=\"ВАЯНИЕ\")]\n",
      "effects []\n",
      "holonyms []\n",
      "hypernyms [Synset(id=\"125117-N\", title=\"ФИГУРА (ИЗОБРАЖЕНИЕ)\"), Synset(id=\"4741-N\", title=\"СКУЛЬПТУРНОЕ ПРОИЗВЕДЕНИЕ\")]\n",
      "hyponyms [Synset(id=\"125354-N\", title=\"ИДОЛ, ИСТУКАН\"), Synset(id=\"117754-N\", title=\"КАРИАТИДА\")]\n",
      "id 8429-N\n",
      "ili [WNSynset(id=\"04306847-n\", definition=\"a sculpture representing a human or animal\")]\n",
      "instances []\n",
      "meronyms []\n",
      "metadata MetaData()\n",
      "part_of_speech N\n",
      "pos_synonyms [Synset(id=\"8429-A\", title=\"СТАТУЯ\")]\n",
      "pos_synonyms_reverse [Synset(id=\"8429-A\", title=\"СТАТУЯ\")]\n",
      "premises []\n",
      "registry <sqlalchemy.orm.decl_api.registry object at 0x7f25ada14a90>\n",
      "related []\n",
      "related_reverse []\n",
      "senses [Sense(id=\"8429-N-115232\", name=\"СТАТУЯ\")]\n",
      "title СТАТУЯ\n"
     ]
    }
   ],
   "source": [
    "# Sense\n",
    "# -----\n",
    "# derivations\n",
    "# id\n",
    "# lemma\n",
    "# metadata\n",
    "# name\n",
    "# phrases\n",
    "# registry\n",
    "# sources\n",
    "# synset\n",
    "# synset_id\n",
    "# words\n",
    "\n",
    "sense = wn.get_senses('статуя')[0]\n",
    "synset = sense.synset\n",
    "\n",
    "# for field in dir(sense):\n",
    "#     if '__' not in field:\n",
    "#         print(field, getattr(sense, field))\n",
    "\n",
    "for field in dir(synset):\n",
    "    if '__' not in field:\n",
    "        print(field, getattr(synset, field))"
   ]
  },
  {
   "cell_type": "code",
   "execution_count": 60,
   "metadata": {},
   "outputs": [
    {
     "data": {
      "text/plain": [
       "[['пищевкусовые продукты', 'чай (пищевой продукт)'],\n",
       " ['безалкогольные напитки', 'чай (напиток)'],\n",
       " ['человек по способностям', 'глупый человек'],\n",
       " ['лечебные формы растений', 'фиточай'],\n",
       " ['пищевкусовые продукты', 'чай (пищевой продукт)'],\n",
       " ['пищевкусовые продукты', 'чай (пищевой продукт)']]"
      ]
     },
     "execution_count": 60,
     "metadata": {},
     "output_type": "execute_result"
    }
   ],
   "source": [
    "from random import choice\n",
    "\n",
    "def random_hypernym(word: str) -> tuple[str, str] | None:\n",
    "    senses = wn.get_senses(word)\n",
    "\n",
    "    if not senses:\n",
    "        return None\n",
    "    \n",
    "    sense = choice(senses)\n",
    "    hypernym = choice(sense.synset.hypernyms)\n",
    "\n",
    "    return [hypernym.title.lower(), sense.synset.title.lower()]\n",
    "\n",
    "[\n",
    "    random_hypernym('чай'),\n",
    "    random_hypernym('чай'),\n",
    "    random_hypernym('дурак'),\n",
    "    random_hypernym('чай'),\n",
    "    random_hypernym('чай'),\n",
    "    random_hypernym('чай'),\n",
    "]"
   ]
  },
  {
   "cell_type": "code",
   "execution_count": 59,
   "metadata": {},
   "outputs": [
    {
     "data": {
      "text/plain": [
       "['глупый человек']"
      ]
     },
     "execution_count": 59,
     "metadata": {},
     "output_type": "execute_result"
    }
   ],
   "source": [
    "[ss.synset.title.lower() for ss in wn.get_senses('дурак')]"
   ]
  }
 ],
 "metadata": {
  "kernelspec": {
   "display_name": "Python 3.10.5 64-bit",
   "language": "python",
   "name": "python3"
  },
  "language_info": {
   "codemirror_mode": {
    "name": "ipython",
    "version": 3
   },
   "file_extension": ".py",
   "mimetype": "text/x-python",
   "name": "python",
   "nbconvert_exporter": "python",
   "pygments_lexer": "ipython3",
   "version": "3.10.12"
  },
  "orig_nbformat": 4,
  "vscode": {
   "interpreter": {
    "hash": "97cc609b13305c559618ec78a438abc56230b9381f827f22d070313b9a1f3777"
   }
  }
 },
 "nbformat": 4,
 "nbformat_minor": 2
}
