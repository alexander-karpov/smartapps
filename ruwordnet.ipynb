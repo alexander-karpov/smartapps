{
 "cells": [
  {
   "cell_type": "code",
   "execution_count": 1,
   "metadata": {},
   "outputs": [
    {
     "name": "stdout",
     "output_type": "stream",
     "text": [
      "downloading a ruwordnet model from https://github.com/avidale/python-ruwordnet/releases/download/0.0.4/ruwordnet-2021.db\n"
     ]
    }
   ],
   "source": [
    "# https://github.com/avidale/python-ruwordnet\n",
    "# pip install ruwordnet\n",
    "!ruwordnet download"
   ]
  },
  {
   "cell_type": "code",
   "execution_count": 2,
   "metadata": {},
   "outputs": [],
   "source": [
    "from ruwordnet import RuWordNet\n",
    "wn = RuWordNet()"
   ]
  },
  {
   "cell_type": "code",
   "execution_count": 12,
   "metadata": {},
   "outputs": [
    {
     "name": "stdout",
     "output_type": "stream",
     "text": [
      "_sa_class_manager\n",
      "<ClassManager of <class 'ruwordnet.models.Synset'> at 7f3805a75c10>\n",
      "_sa_instance_state\n",
      "<sqlalchemy.orm.state.InstanceState object at 0x7f37df581f00>\n",
      "_sa_registry\n",
      "<sqlalchemy.orm.decl_api.registry object at 0x7f37fc090820>\n",
      "antonyms\n",
      "[]\n",
      "antonyms_reverse\n",
      "[]\n",
      "causes\n",
      "[]\n",
      "classes\n",
      "[]\n",
      "conclusions\n",
      "[]\n",
      "definition\n",
      "изваяние, скульптурное произведение, изображающее человека или животное, обычно во весь рост\n",
      "domain_items\n",
      "[]\n",
      "domains\n",
      "[Synset(id=\"540-N\", title=\"ИСКУССТВО\"), Synset(id=\"1419-N\", title=\"ИЗОБРАЗИТЕЛЬНОЕ ИСКУССТВО\"), Synset(id=\"7313-N\", title=\"ВАЯНИЕ\")]\n",
      "effects\n",
      "[]\n",
      "holonyms\n",
      "[]\n",
      "hypernyms\n",
      "[Synset(id=\"125117-N\", title=\"ФИГУРА (ИЗОБРАЖЕНИЕ)\"), Synset(id=\"4741-N\", title=\"СКУЛЬПТУРНОЕ ПРОИЗВЕДЕНИЕ\")]\n",
      "hyponyms\n",
      "[Synset(id=\"125354-N\", title=\"ИДОЛ, ИСТУКАН\"), Synset(id=\"117754-N\", title=\"КАРИАТИДА\")]\n",
      "id\n",
      "8429-N\n",
      "ili\n",
      "[WNSynset(id=\"04306847-n\", definition=\"a sculpture representing a human or animal\")]\n",
      "instances\n",
      "[]\n",
      "meronyms\n",
      "[]\n",
      "metadata\n",
      "MetaData()\n",
      "part_of_speech\n",
      "N\n",
      "pos_synonyms\n",
      "[Synset(id=\"8429-A\", title=\"СТАТУЯ\")]\n",
      "pos_synonyms_reverse\n",
      "[Synset(id=\"8429-A\", title=\"СТАТУЯ\")]\n",
      "premises\n",
      "[]\n",
      "registry\n",
      "<sqlalchemy.orm.decl_api.registry object at 0x7f37fc090820>\n",
      "related\n",
      "[]\n",
      "related_reverse\n",
      "[]\n",
      "senses\n",
      "[Sense(id=\"8429-N-115232\", name=\"СТАТУЯ\")]\n",
      "title\n",
      "СТАТУЯ\n"
     ]
    }
   ],
   "source": [
    "# Sense\n",
    "# -----\n",
    "# derivations\n",
    "# id\n",
    "# lemma\n",
    "# metadata\n",
    "# name\n",
    "# phrases\n",
    "# registry\n",
    "# sources\n",
    "# synset\n",
    "# synset_id\n",
    "# words\n",
    "\n",
    "sense = wn.get_senses('статуя')[0]\n",
    "synset = sense.synset\n",
    "\n",
    "# for field in dir(sense):\n",
    "#     if '__' not in field:\n",
    "#         print(field)\n",
    "#         print(getattr(sense, field))\n",
    "\n",
    "for field in dir(synset):\n",
    "    if '__' not in field:\n",
    "        print(field)\n",
    "        print(getattr(synset, field))"
   ]
  }
 ],
 "metadata": {
  "kernelspec": {
   "display_name": "Python 3.10.5 64-bit",
   "language": "python",
   "name": "python3"
  },
  "language_info": {
   "codemirror_mode": {
    "name": "ipython",
    "version": 3
   },
   "file_extension": ".py",
   "mimetype": "text/x-python",
   "name": "python",
   "nbconvert_exporter": "python",
   "pygments_lexer": "ipython3",
   "version": "3.10.12"
  },
  "orig_nbformat": 4,
  "vscode": {
   "interpreter": {
    "hash": "97cc609b13305c559618ec78a438abc56230b9381f827f22d070313b9a1f3777"
   }
  }
 },
 "nbformat": 4,
 "nbformat_minor": 2
}
