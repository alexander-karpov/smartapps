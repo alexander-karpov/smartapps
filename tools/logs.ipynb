{
 "cells": [
  {
   "cell_type": "code",
   "execution_count": null,
   "metadata": {},
   "outputs": [],
   "source": [
    "from db import db\n",
    "\n",
    "screen = 0\n",
    "no_screen = 0\n",
    "none_screen = 0\n",
    "\n",
    "# 'is_viewed': { \"$ne\": True },\n",
    "# .sort([(\"message_id\", 1)])\n",
    "for one in db.repka_logs.find({  'app': { \"$eq\": \"stories\" } }):\n",
    "    if one['screen'] is None:\n",
    "        none_screen += 1\n",
    "    elif one['screen'] == True:\n",
    "        screen += 1\n",
    "    elif one['screen'] == False:\n",
    "        no_screen +=1\n",
    "\n",
    "print(screen, no_screen, none_screen)"
   ]
  },
  {
   "cell_type": "code",
   "execution_count": null,
   "metadata": {},
   "outputs": [],
   "source": [
    "from db import db\n",
    "\n",
    "for one in db.repka_logs.find({  'app': { \"$eq\": 'hagi2' } }):\n",
    "    if 'ривет, челове' in one['response']:\n",
    "        print(one['request'])"
   ]
  },
  {
   "cell_type": "code",
   "execution_count": 6,
   "metadata": {},
   "outputs": [
    {
     "name": "stdout",
     "output_type": "stream",
     "text": [
      "{'_id': 1, 'count_2': 211}\n",
      "{'_id': 24, 'count_2': 127}\n",
      "{'_id': 21, 'count_2': 108}\n",
      "{'_id': 7, 'count_2': 84}\n",
      "{'_id': 6, 'count_2': 63}\n",
      "{'_id': 25, 'count_2': 56}\n",
      "{'_id': 2, 'count_2': 55}\n",
      "{'_id': 22, 'count_2': 47}\n",
      "{'_id': 5, 'count_2': 45}\n",
      "{'_id': 10, 'count_2': 43}\n",
      "{'_id': 9, 'count_2': 33}\n",
      "{'_id': 11, 'count_2': 31}\n",
      "{'_id': 8, 'count_2': 29}\n",
      "{'_id': 15, 'count_2': 28}\n",
      "{'_id': 4, 'count_2': 28}\n",
      "{'_id': 12, 'count_2': 24}\n",
      "{'_id': 26, 'count_2': 22}\n",
      "{'_id': 23, 'count_2': 22}\n",
      "{'_id': 20, 'count_2': 20}\n",
      "{'_id': 3, 'count_2': 19}\n",
      "{'_id': 19, 'count_2': 19}\n",
      "{'_id': 13, 'count_2': 17}\n",
      "{'_id': 14, 'count_2': 17}\n",
      "{'_id': 18, 'count_2': 17}\n",
      "{'_id': 16, 'count_2': 16}\n",
      "{'_id': 17, 'count_2': 16}\n",
      "{'_id': 27, 'count_2': 12}\n",
      "{'_id': 28, 'count_2': 4}\n",
      "{'_id': 30, 'count_2': 1}\n",
      "total 1214\n"
     ]
    }
   ],
   "source": [
    "from db import db\n",
    "\n",
    "one = db.repka_logs.aggregate([\n",
    "    {'$sort': { 'time': -1 }},\n",
    "    {'$match': { 'is_viewed': { \"$ne\": True }, 'app': { '$eq': 'stories' } } },\n",
    "    {\"$group\" : {'_id':\"$session_id\", 'count_1':{'$sum':1}}},\n",
    "    {\"$group\" : {'_id':\"$count_1\", 'count_2':{'$sum':1}}},\n",
    "    { \"$sort\":{ \"count_2\" : -1 }}\n",
    "])\n",
    "\n",
    "total = 0\n",
    "\n",
    "for o in one:\n",
    "    print(o)\n",
    "    total += o['count_2']\n",
    "\n",
    "print('total', total)"
   ]
  },
  {
   "cell_type": "code",
   "execution_count": null,
   "metadata": {},
   "outputs": [],
   "source": []
  }
 ],
 "metadata": {
  "kernelspec": {
   "display_name": "Python 3.10.5 64-bit",
   "language": "python",
   "name": "python3"
  },
  "language_info": {
   "codemirror_mode": {
    "name": "ipython",
    "version": 3
   },
   "file_extension": ".py",
   "mimetype": "text/x-python",
   "name": "python",
   "nbconvert_exporter": "python",
   "pygments_lexer": "ipython3",
   "version": "3.10.12"
  },
  "orig_nbformat": 4,
  "vscode": {
   "interpreter": {
    "hash": "97cc609b13305c559618ec78a438abc56230b9381f827f22d070313b9a1f3777"
   }
  }
 },
 "nbformat": 4,
 "nbformat_minor": 2
}
