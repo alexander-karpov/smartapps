{
 "cells": [
  {
   "cell_type": "code",
   "execution_count": 1,
   "metadata": {},
   "outputs": [
    {
     "name": "stdout",
     "output_type": "stream",
     "text": [
      "6243 0 0\n"
     ]
    }
   ],
   "source": [
    "from db import db\n",
    "\n",
    "screen = 0\n",
    "no_screen = 0\n",
    "none_screen = 0\n",
    "\n",
    "# 'is_viewed': { \"$ne\": True },\n",
    "# .sort([(\"message_id\", 1)])\n",
    "for one in db.repka_logs.find({  'version': { \"$eq\": 4 } }):\n",
    "    if one['screen'] is None:\n",
    "        none_screen += 1\n",
    "    elif one['screen'] == True:\n",
    "        screen += 1\n",
    "    elif one['screen'] == False:\n",
    "        no_screen +=1\n",
    "\n",
    "print(screen, no_screen, none_screen)"
   ]
  },
  {
   "cell_type": "code",
   "execution_count": null,
   "metadata": {},
   "outputs": [],
   "source": [
    "from db import db\n",
    "\n",
    "for one in db.repka_logs.find({  'app': { \"$eq\": 'hagi2' } }):\n",
    "    if 'ривет, челове' in one['response']:\n",
    "        print(one['request'])"
   ]
  },
  {
   "cell_type": "code",
   "execution_count": null,
   "metadata": {},
   "outputs": [],
   "source": [
    "from db import db\n",
    "\n",
    "one = next(db.repka_logs.aggregate([\n",
    "    { '$match': { 'app': { '$eq': 'hagi2' } } },\n",
    "    {'$limit': 1 },\n",
    "]))"
   ]
  },
  {
   "cell_type": "code",
   "execution_count": null,
   "metadata": {},
   "outputs": [],
   "source": []
  }
 ],
 "metadata": {
  "kernelspec": {
   "display_name": "Python 3.10.5 64-bit",
   "language": "python",
   "name": "python3"
  },
  "language_info": {
   "codemirror_mode": {
    "name": "ipython",
    "version": 3
   },
   "file_extension": ".py",
   "mimetype": "text/x-python",
   "name": "python",
   "nbconvert_exporter": "python",
   "pygments_lexer": "ipython3",
   "version": "3.10.5"
  },
  "orig_nbformat": 4,
  "vscode": {
   "interpreter": {
    "hash": "97cc609b13305c559618ec78a438abc56230b9381f827f22d070313b9a1f3777"
   }
  }
 },
 "nbformat": 4,
 "nbformat_minor": 2
}
