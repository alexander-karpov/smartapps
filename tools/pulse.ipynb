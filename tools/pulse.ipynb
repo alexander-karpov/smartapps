{
 "cells": [
  {
   "cell_type": "code",
   "execution_count": 19,
   "metadata": {},
   "outputs": [],
   "source": [
    "from urllib.parse import quote_plus as quote\n",
    "import ssl\n",
    "import pymongo\n",
    "import os\n",
    "\n",
    "CONNECTION_STRING = 'mongodb://{user}:{pw}@{hosts}/?replicaSet={rs}&authSource={auth_src}'.format(\n",
    "    user=quote('kukuruku'),\n",
    "    pw=quote(os.environ['POSTGRESQL_PASSWORD']),\n",
    "    hosts=','.join([\n",
    "        'rc1c-gtjrhjmixjcjdjw8.mdb.yandexcloud.net:27018'\n",
    "    ]),\n",
    "    rs='rs01',\n",
    "    auth_src='skills')\n",
    "\n",
    "db = pymongo.MongoClient(\n",
    "    CONNECTION_STRING,\n",
    "    ssl_ca_certs='/usr/local/share/ca-certificates/Yandex/YandexInternalRootCA.crt',\n",
    "    ssl_cert_reqs=ssl.CERT_REQUIRED)['skills']"
   ]
  },
  {
   "cell_type": "code",
   "execution_count": 20,
   "metadata": {},
   "outputs": [],
   "source": [
    "import requests\n",
    "\n",
    "def shot(session, command):\n",
    "    requests.post('http://127.0.0.1:5000/', json={\n",
    "        \"session\": { \"session_id\": session },\n",
    "        \"request\": { \"command\": command },\n",
    "        \"version\": \"1.0\",\n",
    "    })"
   ]
  },
  {
   "cell_type": "code",
   "execution_count": 25,
   "metadata": {},
   "outputs": [
    {
     "name": "stdout",
     "output_type": "stream",
     "text": [
      "End\n"
     ]
    }
   ],
   "source": [
    "\n",
    "try:      \n",
    "    for one in db.eat_log.find().sort([(\"session\", pymongo.ASCENDING), (\"time\", pymongo.ASCENDING)]):\n",
    "        shot(one['session'], one['command'])\n",
    "\n",
    "    print(\"End\")\n",
    "except:\n",
    "    print(\"Stopped\")\n"
   ]
  }
 ],
 "metadata": {
  "interpreter": {
   "hash": "aee8b7b246df8f9039afb4144a1f6fd8d2ca17a180786b69acc140d282b71a49"
  },
  "kernelspec": {
   "display_name": "Python 3.9.6 64-bit",
   "name": "python3"
  },
  "language_info": {
   "codemirror_mode": {
    "name": "ipython",
    "version": 3
   },
   "file_extension": ".py",
   "mimetype": "text/x-python",
   "name": "python",
   "nbconvert_exporter": "python",
   "pygments_lexer": "ipython3",
   "version": "3.9.6"
  },
  "orig_nbformat": 4
 },
 "nbformat": 4,
 "nbformat_minor": 2
}
