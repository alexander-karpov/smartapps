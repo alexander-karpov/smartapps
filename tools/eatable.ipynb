{
 "cells": [
  {
   "cell_type": "code",
   "execution_count": 3,
   "metadata": {},
   "outputs": [
    {
     "name": "stdout",
     "output_type": "stream",
     "text": [
      "с/х работник False\n",
      "ж/д вагон False\n",
      "с/х сырье False\n",
      "с/х район False\n",
      "с/х машина False\n",
      "с/х помещение False\n",
      "с/х инвентарь False\n",
      "с/х постройка False\n",
      "с/х орудия False\n",
      "ж/д станция False\n",
      "с/х техника False\n",
      "с/х оборудование False\n",
      "с/х регион False\n",
      "с/х животное True\n",
      "с/х растение True\n",
      "с/х птица True\n"
     ]
    }
   ],
   "source": [
    "from db import db\n",
    "\n",
    "eat = db.get_collection('eat_eatable')\n",
    "\n",
    "for doc in eat.find({'is_hidden': {\"$ne\":True}}):\n",
    "    if '/' in doc['name'] \\\n",
    "         and True: \n",
    "        # eat.update_one({\"name\": doc['name']}, {\"$set\": {'is_hidden': True}})\n",
    "        # eat.update_one({\"name\": doc['name']}, {\"$set\": {'is_eatable': False}})\n",
    "        # eat.delete_one({\"name\": doc['name']})\n",
    "        print(doc['name'], doc['is_eatable'])"
   ]
  },
  {
   "cell_type": "code",
   "execution_count": 5,
   "metadata": {},
   "outputs": [
    {
     "data": {
      "text/plain": [
       "<pymongo.results.DeleteResult at 0x10ea44080>"
      ]
     },
     "execution_count": 5,
     "metadata": {},
     "output_type": "execute_result"
    }
   ],
   "source": [
    "# eat.update_one({\"name\": \"путана\"}, {\"$set\": {'is_hidden': True}})\n",
    "# eat.insert_one({\"name\": \"уха\", \"is_eatable\": True})\n",
    "# eat.find_one({\"name\": \"табак\"})\n",
    "# eat.update_one({\"name\": 'дичь'}, {\"$set\": {'is_eatable': True}})\n",
    "db.eat_eatable.delete_one({\"name\": \"малость\"})"
   ]
  },
  {
   "cell_type": "code",
   "execution_count": null,
   "metadata": {},
   "outputs": [],
   "source": []
  }
 ],
 "metadata": {
  "interpreter": {
   "hash": "aee8b7b246df8f9039afb4144a1f6fd8d2ca17a180786b69acc140d282b71a49"
  },
  "kernelspec": {
   "display_name": "Python 3.9.6 64-bit",
   "name": "python3"
  },
  "language_info": {
   "codemirror_mode": {
    "name": "ipython",
    "version": 3
   },
   "file_extension": ".py",
   "mimetype": "text/x-python",
   "name": "python",
   "nbconvert_exporter": "python",
   "pygments_lexer": "ipython3",
   "version": "3.9.6"
  },
  "orig_nbformat": 4
 },
 "nbformat": 4,
 "nbformat_minor": 2
}
