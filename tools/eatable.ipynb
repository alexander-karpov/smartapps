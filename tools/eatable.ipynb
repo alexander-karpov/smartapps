{
 "cells": [
  {
   "cell_type": "code",
   "execution_count": 3,
   "metadata": {},
   "outputs": [
    {
     "name": "stdout",
     "output_type": "stream",
     "text": [
      "жмых False\n",
      "подсолнечниковый жмых False\n",
      "подсолнечный жмых False\n"
     ]
    }
   ],
   "source": [
    "from db import db\n",
    "\n",
    "eat = db.get_collection('eat_eatable')\n",
    "\n",
    "for doc in eat.find({'is_hidden': {\"$ne\":True}}):\n",
    "    if 'жмых' in doc['name'] \\\n",
    "         and True: \n",
    "        # eat.update_one({\"name\": doc['name']}, {\"$set\": {'is_hidden': True}})\n",
    "        # eat.update_one({\"name\": doc['name']}, {\"$set\": {'is_eatable': False}})\n",
    "        print(doc['name'], doc['is_eatable'])"
   ]
  },
  {
   "cell_type": "code",
   "execution_count": 4,
   "metadata": {},
   "outputs": [],
   "source": [
    "# eat.update_one({\"name\": \"  \"}, {\"$set\": {'is_hidden': True}})\n",
    "# eat.insert_one({\"name\": \"уха\", \"is_eatable\": True})\n",
    "# eat.find_one({\"name\": \"табак\"})\n",
    "# eat.update_one({\"name\": 'дичь'}, {\"$set\": {'is_eatable': True}})\n",
    "# eat.delete_one({\"name\": \"дети, оставшиеся без попечения родителей\"})"
   ]
  }
 ],
 "metadata": {
  "interpreter": {
   "hash": "aee8b7b246df8f9039afb4144a1f6fd8d2ca17a180786b69acc140d282b71a49"
  },
  "kernelspec": {
   "display_name": "Python 3.9.6 64-bit",
   "name": "python3"
  },
  "language_info": {
   "codemirror_mode": {
    "name": "ipython",
    "version": 3
   },
   "file_extension": ".py",
   "mimetype": "text/x-python",
   "name": "python",
   "nbconvert_exporter": "python",
   "pygments_lexer": "ipython3",
   "version": "3.9.6"
  },
  "orig_nbformat": 4
 },
 "nbformat": 4,
 "nbformat_minor": 2
}
