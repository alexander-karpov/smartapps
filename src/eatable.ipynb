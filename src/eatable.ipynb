{
 "cells": [
  {
   "cell_type": "code",
   "execution_count": 6,
   "metadata": {},
   "outputs": [],
   "source": [
    "from urllib.parse import quote_plus as quote\n",
    "import ssl\n",
    "import pymongo\n",
    "import os\n",
    "\n",
    "CONNECTION_STRING = 'mongodb://{user}:{pw}@{hosts}/?replicaSet={rs}&authSource={auth_src}'.format(\n",
    "    user=quote('kukuruku'),\n",
    "    pw=quote(os.environ['POSTGRESQL_PASSWORD']),\n",
    "    hosts=','.join([\n",
    "        'rc1c-gtjrhjmixjcjdjw8.mdb.yandexcloud.net:27018'\n",
    "    ]),\n",
    "    rs='rs01',\n",
    "    auth_src='skills')\n",
    "\n",
    "db = pymongo.MongoClient(\n",
    "    CONNECTION_STRING,\n",
    "    ssl_ca_certs='/usr/local/share/ca-certificates/Yandex/YandexInternalRootCA.crt',\n",
    "    ssl_cert_reqs=ssl.CERT_REQUIRED)['skills']"
   ]
  },
  {
   "cell_type": "code",
   "execution_count": 78,
   "metadata": {},
   "outputs": [
    {
     "name": "stdout",
     "output_type": "stream",
     "text": [
      "исповедник\n"
     ]
    }
   ],
   "source": [
    "eat = db.get_collection('eat_eatable')\n",
    "\n",
    "# pipeline = [\n",
    "#     {'$match': {'is_eatable': False}},\n",
    "#     {'$sample': {'size': 8}}\n",
    "# ]\n",
    "\n",
    "# with db.get_collection('eat_eatable').aggregate(pipeline) as cur:\n",
    "#     print([doc['name'] for doc in cur])\n",
    "\n",
    "\n",
    "\n",
    "\n",
    "# eat.find_one({\"name\": \"презерватив\"})\n",
    "\n",
    "\n",
    "\n",
    "# cur = eat.aggregate([\n",
    "#     {\"$group\" : { \"_id\": \"$name\", \"count\": { \"$sum\": 1 } } },\n",
    "#     {\"$match\": {\"_id\" :{ \"$ne\" : None } , \"count\" : {\"$gt\": 1} } }, \n",
    "#     {\"$project\": {\"name\" : \"$_id\", \"_id\" : 0} }\n",
    "# ])\n",
    "\n",
    "\n",
    "# list(cur)\n",
    "\n",
    "\n",
    "for doc in eat.find():\n",
    "    if 'испов' in doc['name'] \\\n",
    "         and True: \n",
    "        #  and 'секст' not in doc['name']:\n",
    "        # eat.delete_one({\"name\": doc['name']})\n",
    "        print(doc['name'])\n",
    "    \n",
    "\n",
    "# # hash\n",
    "# eat.delete_one({\"name\": 'член'})"
   ]
  },
  {
   "cell_type": "code",
   "execution_count": 8,
   "metadata": {},
   "outputs": [
    {
     "data": {
      "text/plain": [
       "<pymongo.results.DeleteResult at 0x1103ea8c0>"
      ]
     },
     "execution_count": 8,
     "metadata": {},
     "output_type": "execute_result"
    }
   ],
   "source": [
    "eat.delete_one({\"name\": \"презерватив\"})"
   ]
  },
  {
   "cell_type": "code",
   "execution_count": 9,
   "metadata": {},
   "outputs": [
    {
     "data": {
      "text/plain": [
       "<function str.startswith>"
      ]
     },
     "execution_count": 9,
     "metadata": {},
     "output_type": "execute_result"
    }
   ],
   "source": [
    "'hello'.startswith"
   ]
  }
 ],
 "metadata": {
  "interpreter": {
   "hash": "aee8b7b246df8f9039afb4144a1f6fd8d2ca17a180786b69acc140d282b71a49"
  },
  "kernelspec": {
   "display_name": "Python 3.9.6 64-bit",
   "name": "python3"
  },
  "language_info": {
   "codemirror_mode": {
    "name": "ipython",
    "version": 3
   },
   "file_extension": ".py",
   "mimetype": "text/x-python",
   "name": "python",
   "nbconvert_exporter": "python",
   "pygments_lexer": "ipython3",
   "version": "3.9.6"
  },
  "orig_nbformat": 4
 },
 "nbformat": 4,
 "nbformat_minor": 2
}
