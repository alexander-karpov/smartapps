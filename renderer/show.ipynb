{
 "cells": [
  {
   "cell_type": "code",
   "execution_count": 1,
   "metadata": {},
   "outputs": [],
   "source": [
    "%load_ext autoreload\n",
    "%autoreload 2"
   ]
  },
  {
   "cell_type": "code",
   "execution_count": 5,
   "metadata": {},
   "outputs": [
    {
     "data": {
      "application/vnd.jupyter.widget-view+json": {
       "model_id": "43c2ca6fceb7479589e1606107d5163e",
       "version_major": 2,
       "version_minor": 0
      },
      "text/plain": [
       "VBox(children=(Button(description='Обновить', style=ButtonStyle()), IntSlider(value=10, max=10, min=1), Button…"
      ]
     },
     "metadata": {},
     "output_type": "display_data"
    },
    {
     "data": {
      "image/png": "[encoded data removed]",
      "text/plain": [
       "<PIL.Image.Image image mode=RGBA size=776x344>"
      ]
     },
     "metadata": {},
     "output_type": "display_data"
    }
   ],
   "source": [
    "from IPython.display import display, clear_output\n",
    "import ipywidgets as widgets\n",
    "from renderer import Renderer, shoot, update\n",
    "from PIL.Image import Image, open as open_image, new as new_image, Resampling\n",
    "import imagehash\n",
    "import io\n",
    "\n",
    "slider = widgets.IntSlider(value=10, min=1, max=10)\n",
    "shoot_button = widgets.Button(description='Выстрел')\n",
    "shoot_button.on_click(lambda _: _shoot(slider.value))\n",
    "update_button = widgets.Button(description='Обновить')\n",
    "update_button.on_click(lambda _: _update())\n",
    "gui = widgets.VBox([update_button, slider, shoot_button])\n",
    "renderer = Renderer()\n",
    "\n",
    "last_hash = \"\"\n",
    "f= None\n",
    "\n",
    "def _draw_screen():\n",
    "    global last_hash, f\n",
    "    clear_output()\n",
    "    display(gui)\n",
    "    f = renderer.render(debug=True)\n",
    "    display(f)\n",
    "\n",
    "def _shoot(d):\n",
    "    shoot(int(d))\n",
    "\n",
    "    _draw_screen()\n",
    "\n",
    "def _update():\n",
    "    update()\n",
    "    _draw_screen()\n",
    "\n",
    "_update()"
   ]
  }
 ],
 "metadata": {
  "kernelspec": {
   "display_name": "Python 3.10.5 64-bit",
   "language": "python",
   "name": "python3"
  },
  "language_info": {
   "codemirror_mode": {
    "name": "ipython",
    "version": 3
   },
   "file_extension": ".py",
   "mimetype": "text/x-python",
   "name": "python",
   "nbconvert_exporter": "python",
   "pygments_lexer": "ipython3",
   "version": "3.10.5"
  },
  "orig_nbformat": 4,
  "vscode": {
   "interpreter": {
    "hash": "916dbcbb3f70747c44a77c7bcd40155683ae19c65e1c03b4aa3499c5328201f1"
   }
  }
 },
 "nbformat": 4,
 "nbformat_minor": 2
}
