{
 "cells": [
  {
   "cell_type": "code",
   "execution_count": 2,
   "metadata": {},
   "outputs": [
    {
     "data": {
      "application/vnd.jupyter.widget-view+json": {
       "model_id": "7071c1901df54c9a91717c1c4a0a0574",
       "version_major": 2,
       "version_minor": 0
      },
      "text/plain": [
       "VBox(children=(Button(description='Обновить', style=ButtonStyle()), IntSlider(value=10, max=15, min=1), Button…"
      ]
     },
     "metadata": {},
     "output_type": "display_data"
    },
    {
     "data": {
      "text/plain": [
       "[<PIL.Image.Image image mode=L size=328x480>,\n",
       " <PIL.Image.Image image mode=L size=328x480>,\n",
       " <PIL.Image.Image image mode=L size=328x480>]"
      ]
     },
     "metadata": {},
     "output_type": "display_data"
    }
   ],
   "source": [
    "%load_ext autoreload\n",
    "%autoreload 2\n",
    "\n",
    "from IPython.display import display, clear_output\n",
    "import ipywidgets as widgets\n",
    "from renderer import Renderer, shoot, update\n",
    "from PIL.Image import Image, open as open_image, new as new_image, Resampling\n",
    "import imagehash\n",
    "import io\n",
    "\n",
    "slider = widgets.IntSlider(value=10, min=1, max=15)\n",
    "shoot_button = widgets.Button(description='Выстрел')\n",
    "shoot_button.on_click(lambda _: _shoot(slider.value))\n",
    "update_button = widgets.Button(description='Обновить')\n",
    "update_button.on_click(lambda _: _update())\n",
    "gui = widgets.VBox([update_button, slider, shoot_button])\n",
    "renderer = Renderer()\n",
    "\n",
    "last_hash = \"\"\n",
    "f= None\n",
    "\n",
    "def _draw_screen():\n",
    "    global last_hash, f\n",
    "    clear_output()\n",
    "    display(gui)\n",
    "    f = renderer.render(debug=False)\n",
    "    display(f)\n",
    "\n",
    "def _shoot(d):\n",
    "    shoot(int(d))\n",
    "\n",
    "    _draw_screen()\n",
    "\n",
    "def _update():\n",
    "    update()\n",
    "    _draw_screen()\n",
    "\n",
    "_update()"
   ]
  },
  {
   "cell_type": "code",
   "execution_count": 6,
   "metadata": {},
   "outputs": [
    {
     "data": {
      "text/plain": [
       "[{'image': {'id': '1540737/eca2364beac35ee9b271',\n",
       "   'size': 1235,\n",
       "   'createdAt': '2022-07-17T12:39:24.931Z'}},\n",
       " {'image': {'id': '1540737/6d114988c3e768b2f1f1',\n",
       "   'size': 1106,\n",
       "   'createdAt': '2022-07-17T12:39:24.961Z'}},\n",
       " {'image': {'id': '1652229/982d966200b9514f709d',\n",
       "   'size': 1292,\n",
       "   'createdAt': '2022-07-17T12:39:25.000Z'}}]"
      ]
     },
     "execution_count": 6,
     "metadata": {},
     "output_type": "execute_result"
    }
   ],
   "source": [
    "from uploader import ImageUploader\n",
    "\n",
    "uploader = ImageUploader()\n",
    "await uploader.upload(renderer.render())"
   ]
  }
 ],
 "metadata": {
  "kernelspec": {
   "display_name": "Python 3.10.5 64-bit",
   "language": "python",
   "name": "python3"
  },
  "language_info": {
   "codemirror_mode": {
    "name": "ipython",
    "version": 3
   },
   "file_extension": ".py",
   "mimetype": "text/x-python",
   "name": "python",
   "nbconvert_exporter": "python",
   "pygments_lexer": "ipython3",
   "version": "3.10.5"
  },
  "orig_nbformat": 4,
  "vscode": {
   "interpreter": {
    "hash": "916dbcbb3f70747c44a77c7bcd40155683ae19c65e1c03b4aa3499c5328201f1"
   }
  }
 },
 "nbformat": 4,
 "nbformat_minor": 2
}
