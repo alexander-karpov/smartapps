{
 "cells": [
  {
   "cell_type": "code",
   "execution_count": 65,
   "metadata": {},
   "outputs": [
    {
     "data": {
      "application/vnd.jupyter.widget-view+json": {
       "model_id": "38d2c404ff9a46f488c3638884b73d52",
       "version_major": 2,
       "version_minor": 0
      },
      "text/plain": [
       "VBox(children=(Button(description='Обновить', style=ButtonStyle()), IntSlider(value=10, max=15, min=1), Button…"
      ]
     },
     "metadata": {},
     "output_type": "display_data"
    },
    {
     "data": {
      "text/plain": [
       "[<PIL.Image.Image image mode=L size=328x480>,\n",
       " <PIL.Image.Image image mode=L size=328x480>,\n",
       " <PIL.Image.Image image mode=L size=328x480>]"
      ]
     },
     "metadata": {},
     "output_type": "display_data"
    }
   ],
   "source": [
    "%load_ext autoreload\n",
    "%autoreload 2\n",
    "\n",
    "from IPython.display import display, clear_output\n",
    "import ipywidgets as widgets\n",
    "from renderer import Renderer, shoot, update\n",
    "from PIL.Image import Image, open as open_image, new as new_image, Resampling\n",
    "import imagehash\n",
    "import io\n",
    "\n",
    "slider = widgets.IntSlider(value=10, min=1, max=15)\n",
    "shoot_button = widgets.Button(description='Выстрел')\n",
    "shoot_button.on_click(lambda _: _shoot(slider.value))\n",
    "update_button = widgets.Button(description='Обновить')\n",
    "update_button.on_click(lambda _: _update())\n",
    "gui = widgets.VBox([update_button, slider, shoot_button])\n",
    "renderer = Renderer()\n",
    "\n",
    "last_hash = \"\"\n",
    "f= None\n",
    "\n",
    "def _draw_screen():\n",
    "    global last_hash, f\n",
    "    clear_output()\n",
    "    display(gui)\n",
    "    f = renderer.render(debug=False)\n",
    "    display(f)\n",
    "\n",
    "def _shoot(d):\n",
    "    shoot(int(d))\n",
    "\n",
    "    _draw_screen()\n",
    "\n",
    "def _update():\n",
    "    update()\n",
    "    _draw_screen()\n",
    "\n",
    "_update()\n",
    "\n",
    "\n",
    "\n",
    "\n"
   ]
  },
  {
   "cell_type": "code",
   "execution_count": 69,
   "metadata": {},
   "outputs": [
    {
     "name": "stdout",
     "output_type": "stream",
     "text": [
      "{'images': [{'id': '1540737/69512a3107f3bb2b3ffa', 'origUrl': None, 'size': 1238, 'createdAt': '2022-07-16T02:45:29.283Z'}, {'id': '965417/ad10ef63ebbb02bd80ee', 'origUrl': None, 'size': 1269, 'createdAt': '2022-07-16T02:45:29.189Z'}, {'id': '1030494/bc7b7446779587dd2bc3', 'origUrl': None, 'size': 1118, 'createdAt': '2022-07-16T02:45:29.062Z'}, {'id': '1030494/31958eef4c4c7e7e62d9', 'origUrl': None, 'size': 1238, 'createdAt': '2022-07-16T02:44:03.299Z'}, {'id': '213044/1adf1c3a74e6914bc1e7', 'origUrl': None, 'size': 1118, 'createdAt': '2022-07-16T02:44:03.209Z'}, {'id': '1652229/0d32204ebc2ef31b5970', 'origUrl': None, 'size': 1269, 'createdAt': '2022-07-16T02:44:03.108Z'}], 'total': 6}\n"
     ]
    },
    {
     "data": {
      "text/plain": [
       "[{'image': {'id': '1540737/69512a3107f3bb2b3ffa',\n",
       "   'size': 1238,\n",
       "   'createdAt': '2022-07-16T02:45:29.283Z'}},\n",
       " {'image': {'id': '965417/ad10ef63ebbb02bd80ee',\n",
       "   'size': 1269,\n",
       "   'createdAt': '2022-07-16T02:45:29.189Z'}},\n",
       " {'image': {'id': '1030494/bc7b7446779587dd2bc3',\n",
       "   'size': 1118,\n",
       "   'createdAt': '2022-07-16T02:45:29.062Z'}}]"
      ]
     },
     "execution_count": 69,
     "metadata": {},
     "output_type": "execute_result"
    }
   ],
   "source": [
    "await uploader.upload(renderer.render())"
   ]
  }
 ],
 "metadata": {
  "kernelspec": {
   "display_name": "Python 3.10.5 64-bit",
   "language": "python",
   "name": "python3"
  },
  "language_info": {
   "codemirror_mode": {
    "name": "ipython",
    "version": 3
   },
   "file_extension": ".py",
   "mimetype": "text/x-python",
   "name": "python",
   "nbconvert_exporter": "python",
   "pygments_lexer": "ipython3",
   "version": "3.10.5"
  },
  "orig_nbformat": 4,
  "vscode": {
   "interpreter": {
    "hash": "916dbcbb3f70747c44a77c7bcd40155683ae19c65e1c03b4aa3499c5328201f1"
   }
  }
 },
 "nbformat": 4,
 "nbformat_minor": 2
}
