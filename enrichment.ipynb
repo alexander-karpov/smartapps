{
 "cells": [
  {
   "cell_type": "code",
   "execution_count": 11,
   "metadata": {},
   "outputs": [
    {
     "name": "stdout",
     "output_type": "stream",
     "text": [
      "помидор:блестящий помидор:болгарский помидор:большой помидор:варёный помидор:гигантский помидор:гнилой помидор:жареный помидор:жёлтый помидор:зелёный помидор:зрелый помидор:красный помидор:крепкий помидор:круглый помидор:крупный помидор:маленький помидор:мясистый помидор:настоящий помидор:недозрелый помидор:несчастный помидор:огромный помидор:отличный помидор:перезрелый помидор:переспелый помидор:печёный помидор:полный помидор:последний помидор:пунцовый помидор:ранний помидор:румяный помидор:рыжий помидор:свежий помидор:солёный помидор:сочный помидор:спелый помидор:тугой помидор:тухлый помидор:тушёный помидор:хороший\n"
     ]
    }
   ],
   "source": [
    "import httpx\n",
    "\n",
    "client = httpx.AsyncClient()\n",
    "\n",
    "r = await client.get(f\"https://functions.yandexcloud.net/d4e24s0e8pnki6olgvgi?text=помидор\")\n",
    "print(r.text)\n"
   ]
  },
  {
   "cell_type": "code",
   "execution_count": 2,
   "metadata": {},
   "outputs": [
    {
     "data": {
      "text/plain": [
       "'красная морковь'"
      ]
     },
     "execution_count": 2,
     "metadata": {},
     "output_type": "execute_result"
    }
   ],
   "source": [
    "from enrichment import add_random_adjective\n",
    "\n",
    "await add_random_adjective('морковь', 'nomn')"
   ]
  }
 ],
 "metadata": {
  "kernelspec": {
   "display_name": "Python 3.10.5 64-bit",
   "language": "python",
   "name": "python3"
  },
  "language_info": {
   "codemirror_mode": {
    "name": "ipython",
    "version": 3
   },
   "file_extension": ".py",
   "mimetype": "text/x-python",
   "name": "python",
   "nbconvert_exporter": "python",
   "pygments_lexer": "ipython3",
   "version": "3.10.12"
  },
  "orig_nbformat": 4,
  "vscode": {
   "interpreter": {
    "hash": "97cc609b13305c559618ec78a438abc56230b9381f827f22d070313b9a1f3777"
   }
  }
 },
 "nbformat": 4,
 "nbformat_minor": 2
}
