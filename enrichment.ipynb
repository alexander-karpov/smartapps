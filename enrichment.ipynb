{
 "cells": [
  {
   "cell_type": "code",
   "execution_count": 20,
   "metadata": {},
   "outputs": [
    {
     "name": "stdout",
     "output_type": "stream",
     "text": [
      "Parse(word='достойный', tag=OpencorporaTag('ADJF,Qual masc,sing,nomn'), normal_form='достойный', score=0.5, methods_stack=((DictionaryAnalyzer(), 'достойный', 1401, 0),))\n",
      "['plur', 'accs']\n",
      "Parse(word='достойных', tag=OpencorporaTag('ADJF,Qual anim,plur,accs'), normal_form='достойный', score=1.0, methods_stack=((DictionaryAnalyzer(), 'достойных', 1401, 23),))\n",
      "----\n",
      "Parse(word='лошадь', tag=OpencorporaTag('NOUN,anim,femn sing,accs'), normal_form='лошадь', score=0.555555, methods_stack=((DictionaryAnalyzer(), 'лошадь', 1958, 3),))\n",
      "['plur', 'accs']\n",
      "Parse(word='лошадей', tag=OpencorporaTag('NOUN,anim,femn plur,accs'), normal_form='лошадь', score=1.0, methods_stack=((DictionaryAnalyzer(), 'лошадей', 1958, 9),))\n",
      "----\n"
     ]
    },
    {
     "data": {
      "text/plain": [
       "'достойных лошадей'"
      ]
     },
     "execution_count": 20,
     "metadata": {},
     "output_type": "execute_result"
    }
   ],
   "source": [
    "from enrichment import add_random_adjective\n",
    "\n",
    "await add_random_adjective('лошадь', case='accs', num='plur')\n"
   ]
  },
  {
   "cell_type": "code",
   "execution_count": null,
   "metadata": {},
   "outputs": [],
   "source": []
  }
 ],
 "metadata": {
  "kernelspec": {
   "display_name": "Python 3.10.5 64-bit",
   "language": "python",
   "name": "python3"
  },
  "language_info": {
   "codemirror_mode": {
    "name": "ipython",
    "version": 3
   },
   "file_extension": ".py",
   "mimetype": "text/x-python",
   "name": "python",
   "nbconvert_exporter": "python",
   "pygments_lexer": "ipython3",
   "version": "3.10.12"
  },
  "orig_nbformat": 4,
  "vscode": {
   "interpreter": {
    "hash": "97cc609b13305c559618ec78a438abc56230b9381f827f22d070313b9a1f3777"
   }
  }
 },
 "nbformat": 4,
 "nbformat_minor": 2
}
