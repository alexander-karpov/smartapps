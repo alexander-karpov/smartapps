{
 "cells": [
  {
   "cell_type": "code",
   "execution_count": 6,
   "metadata": {},
   "outputs": [
    {
     "data": {
      "text/plain": [
       "([Parse(word='персик', tag=OpencorporaTag('NOUN,inan,masc sing,nomn'), normal_form='персик', score=0.5, methods_stack=((DictionaryAnalyzer(), 'персик', 19, 0),)),\n",
       "  Parse(word='персик', tag=OpencorporaTag('NOUN,inan,masc sing,accs'), normal_form='персик', score=0.5, methods_stack=((DictionaryAnalyzer(), 'персик', 19, 3),))],\n",
       " [Parse(word='спелый', tag=OpencorporaTag('ADJF,Qual masc,sing,nomn'), normal_form='спелый', score=0.5, methods_stack=((DictionaryAnalyzer(), 'спелый', 4, 0),)),\n",
       "  Parse(word='спелый', tag=OpencorporaTag('ADJF,Qual inan,masc,sing,accs'), normal_form='спелый', score=0.5, methods_stack=((DictionaryAnalyzer(), 'спелый', 4, 4),))])"
      ]
     },
     "execution_count": 6,
     "metadata": {},
     "output_type": "execute_result"
    }
   ],
   "source": [
    "from morphy import parse\n",
    "\n",
    "parse('персик'), parse('спелый')"
   ]
  }
 ],
 "metadata": {
  "kernelspec": {
   "display_name": "Python 3.10.5 64-bit",
   "language": "python",
   "name": "python3"
  },
  "language_info": {
   "codemirror_mode": {
    "name": "ipython",
    "version": 3
   },
   "file_extension": ".py",
   "mimetype": "text/x-python",
   "name": "python",
   "nbconvert_exporter": "python",
   "pygments_lexer": "ipython3",
   "version": "3.10.12"
  },
  "orig_nbformat": 4,
  "vscode": {
   "interpreter": {
    "hash": "97cc609b13305c559618ec78a438abc56230b9381f827f22d070313b9a1f3777"
   }
  }
 },
 "nbformat": 4,
 "nbformat_minor": 2
}
