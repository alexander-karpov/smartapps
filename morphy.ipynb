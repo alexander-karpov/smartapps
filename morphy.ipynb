{
 "cells": [
  {
   "cell_type": "code",
   "execution_count": 3,
   "metadata": {},
   "outputs": [
    {
     "data": {
      "text/plain": [
       "[Parse(word='крохотного', tag=OpencorporaTag('ADJF,Qual masc,sing,gent'), normal_form='крохотный', score=0.3333333333333333, methods_stack=((DictionaryAnalyzer(), 'крохотного', 87, 1),)),\n",
       " Parse(word='крохотного', tag=OpencorporaTag('ADJF,Qual anim,masc,sing,accs'), normal_form='крохотный', score=0.3333333333333333, methods_stack=((DictionaryAnalyzer(), 'крохотного', 87, 3),)),\n",
       " Parse(word='крохотного', tag=OpencorporaTag('ADJF,Qual neut,sing,gent'), normal_form='крохотный', score=0.3333333333333333, methods_stack=((DictionaryAnalyzer(), 'крохотного', 87, 15),))]"
      ]
     },
     "execution_count": 3,
     "metadata": {},
     "output_type": "execute_result"
    }
   ],
   "source": [
    "from morphy import parse\n",
    "\n",
    "parse('крохотного')"
   ]
  }
 ],
 "metadata": {
  "kernelspec": {
   "display_name": "Python 3.10.5 64-bit",
   "language": "python",
   "name": "python3"
  },
  "language_info": {
   "codemirror_mode": {
    "name": "ipython",
    "version": 3
   },
   "file_extension": ".py",
   "mimetype": "text/x-python",
   "name": "python",
   "nbconvert_exporter": "python",
   "pygments_lexer": "ipython3",
   "version": "3.10.12"
  },
  "orig_nbformat": 4,
  "vscode": {
   "interpreter": {
    "hash": "97cc609b13305c559618ec78a438abc56230b9381f827f22d070313b9a1f3777"
   }
  }
 },
 "nbformat": 4,
 "nbformat_minor": 2
}
